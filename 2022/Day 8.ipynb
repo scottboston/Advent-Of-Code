{
 "cells": [
  {
   "cell_type": "code",
   "execution_count": 2,
   "metadata": {
    "collapsed": true
   },
   "outputs": [],
   "source": [
    "import pandas as pd\n",
    "import myconfig\n",
    "import requests\n",
    "import urllib3\n",
    "import numpy as np\n",
    "from io import StringIO\n",
    "urllib3.disable_warnings()\n",
    "\n",
    "day = 8\n",
    "url = f'https://adventofcode.com/2022/day/{day}/input'\n",
    "input_data = requests.get(url, cookies = {'session': myconfig.session}, verify=False).text"
   ]
  },
  {
   "cell_type": "code",
   "execution_count": 3,
   "outputs": [],
   "source": [
    "df = pd.read_csv(StringIO(input_data), header=None)"
   ],
   "metadata": {
    "collapsed": false
   }
  },
  {
   "cell_type": "code",
   "execution_count": 4,
   "outputs": [],
   "source": [
    "df = pd.DataFrame([[*str(i)] for i in df[0]])"
   ],
   "metadata": {
    "collapsed": false
   }
  },
  {
   "cell_type": "code",
   "execution_count": 5,
   "outputs": [],
   "source": [
    "c1 = df > df.cummax().shift()\n",
    "\n",
    "c2 = df > df.cummax(axis=1).shift(axis=1)\n",
    "\n",
    "c3 = df > df.iloc[::-1].cummax()[::-1].shift(-1)\n",
    "\n",
    "c4 = df > df.iloc[:,::-1].cummax(axis=1).iloc[:,::-1].shift(-1, axis=1)"
   ],
   "metadata": {
    "collapsed": false
   }
  },
  {
   "cell_type": "code",
   "execution_count": 6,
   "outputs": [],
   "source": [
    "inside = (c1 | c2 | c3 | c4).iloc[1:-1,1:-1].sum().sum()\n",
    "outside = df.shape[0]*2+(df.shape[1]-2)*2"
   ],
   "metadata": {
    "collapsed": false
   }
  },
  {
   "cell_type": "code",
   "execution_count": 7,
   "outputs": [
    {
     "data": {
      "text/plain": "1733"
     },
     "execution_count": 7,
     "metadata": {},
     "output_type": "execute_result"
    }
   ],
   "source": [
    "#Answer 1\n",
    "inside+outside"
   ],
   "metadata": {
    "collapsed": false
   }
  },
  {
   "cell_type": "code",
   "execution_count": null,
   "outputs": [],
   "source": [],
   "metadata": {
    "collapsed": false
   }
  }
 ],
 "metadata": {
  "kernelspec": {
   "display_name": "Python 3",
   "language": "python",
   "name": "python3"
  },
  "language_info": {
   "codemirror_mode": {
    "name": "ipython",
    "version": 2
   },
   "file_extension": ".py",
   "mimetype": "text/x-python",
   "name": "python",
   "nbconvert_exporter": "python",
   "pygments_lexer": "ipython2",
   "version": "2.7.6"
  }
 },
 "nbformat": 4,
 "nbformat_minor": 0
}
