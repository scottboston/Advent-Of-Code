{
 "cells": [
  {
   "cell_type": "code",
   "execution_count": 1,
   "metadata": {
    "collapsed": true
   },
   "outputs": [],
   "source": [
    "import pandas as pd\n",
    "import myconfig\n",
    "import requests\n",
    "import urllib3\n",
    "import numpy as np\n",
    "from io import StringIO\n",
    "urllib3.disable_warnings()\n",
    "\n",
    "day = 9\n",
    "url = f'https://adventofcode.com/2022/day/{day}/input'\n",
    "input_data = requests.get(url, cookies = {'session': myconfig.session}, verify=False).text"
   ]
  },
  {
   "cell_type": "code",
   "execution_count": 2,
   "outputs": [],
   "source": [
    "h = [0, 0]\n",
    "t = [0, 0]\n",
    "t_list = [(0,0)]"
   ],
   "metadata": {
    "collapsed": false
   }
  },
  {
   "cell_type": "code",
   "execution_count": 3,
   "outputs": [],
   "source": [
    "def move_head(move: str):\n",
    "    if move == 'U':\n",
    "        h[1] += 1\n",
    "    if move == 'D':\n",
    "        h[1] -= 1\n",
    "    if move == 'R':\n",
    "        h[0] += 1\n",
    "    if move == 'L':\n",
    "        h[0] -= 1\n",
    "    move_tail()\n",
    "    t_list.append(tuple(t))\n",
    "\n",
    "\n",
    "def move_tail():\n",
    "    if (abs(h[0] - t[0]) > 1):\n",
    "        #print(f'Move tail vertical ')\n",
    "        t[0] += (h[0] - t[0])//2\n",
    "        if h[1] != t[1]:\n",
    "            t[1] += (h[1]-t[1])\n",
    "\n",
    "    if (abs(h[1] - t[1]) > 1):\n",
    "        #print(f'Move tail horizontal')\n",
    "        t[1] += (h[1] - t[1])//2\n",
    "        if h[0] != t[0]:\n",
    "            t[0] += (h[0]-t[0])\n",
    "\n",
    "df = pd.read_csv(StringIO(input_data), names=['move', 'quantity'], sep=' ')"
   ],
   "metadata": {
    "collapsed": false
   }
  },
  {
   "cell_type": "code",
   "execution_count": 4,
   "outputs": [
    {
     "name": "stdout",
     "output_type": "stream",
     "text": [
      "6087\n"
     ]
    }
   ],
   "source": [
    "# Answer 1\n",
    "for _, step in df.iterrows():\n",
    "    for _ in range(step['quantity']):\n",
    "        move_head(step['move'])\n",
    "print(len(set(t_list)))\n"
   ],
   "metadata": {
    "collapsed": false
   }
  },
  {
   "cell_type": "code",
   "execution_count": 5,
   "outputs": [],
   "source": [
    "# Start answer 2"
   ],
   "metadata": {
    "collapsed": false
   }
  },
  {
   "cell_type": "code",
   "execution_count": 6,
   "outputs": [
    {
     "data": {
      "text/plain": "(2000, 2)"
     },
     "execution_count": 6,
     "metadata": {},
     "output_type": "execute_result"
    }
   ],
   "source": [
    "df = pd.read_csv(StringIO(input_data), names=['move', 'quantity'], sep=' ')\n",
    "df.shape"
   ],
   "metadata": {
    "collapsed": false
   }
  },
  {
   "cell_type": "code",
   "execution_count": 7,
   "outputs": [
    {
     "name": "stdout",
     "output_type": "stream",
     "text": [
      "{0: [0, 0], 1: [0, 0], 2: [0, 0], 3: [0, 0], 4: [0, 0], 5: [0, 0], 6: [0, 0], 7: [0, 0], 8: [0, 0], 9: [0, 0]} [(0, 0)]\n"
     ]
    }
   ],
   "source": [
    "rope = {}\n",
    "for i in range(10):\n",
    "    rope[i] = [0, 0]\n",
    "t = rope[9]\n",
    "t_list = [tuple(t)]\n",
    "print(rope, t_list)"
   ],
   "metadata": {
    "collapsed": false
   }
  },
  {
   "cell_type": "code",
   "execution_count": 8,
   "outputs": [],
   "source": [
    "def move_snake(move: str):\n",
    "    if move == 'U':\n",
    "        rope[0][1] += 1\n",
    "    if move == 'D':\n",
    "        rope[0][1] -= 1\n",
    "    if move == 'R':\n",
    "        rope[0][0] += 1\n",
    "    if move == 'L':\n",
    "        rope[0][0] -= 1\n",
    "    for i in range(1, 10):\n",
    "        rope[i-1], rope[i] = move_body(rope[i-1], rope[i])\n",
    "        if i == 9:\n",
    "            # print(i, rope[9])\n",
    "            t_list.append(tuple(rope[i]))\n"
   ],
   "metadata": {
    "collapsed": false
   }
  },
  {
   "cell_type": "code",
   "execution_count": 9,
   "outputs": [],
   "source": [
    "def move_body(h, t):\n",
    "    #print(f'{h=} {t=}')\n",
    "    if (abs(h[0] - t[0]) > 1):\n",
    "        #print(f'Move tail vertical ')\n",
    "        t[0] += (h[0] - t[0])//2\n",
    "        if h[1] != t[1]:\n",
    "            t[1] += (h[1]-t[1])\n",
    "\n",
    "    if (abs(h[1] - t[1]) > 1):\n",
    "        #print(f'Move tail horizontal')\n",
    "        t[1] += (h[1] - t[1])//2\n",
    "        if h[0] != t[0]:\n",
    "            t[0] += (h[0]-t[0])\n",
    "    return h, t"
   ],
   "metadata": {
    "collapsed": false
   }
  },
  {
   "cell_type": "code",
   "execution_count": 10,
   "outputs": [
    {
     "name": "stdout",
     "output_type": "stream",
     "text": [
      "2497\n"
     ]
    }
   ],
   "source": [
    "for i, step in df.iterrows():\n",
    "    for _ in range(step['quantity']):\n",
    "        move_snake(step['move'])\n",
    "    # print(f'{i=}: {rope}')\n",
    "print(len(set(t_list)))\n"
   ],
   "metadata": {
    "collapsed": false
   }
  },
  {
   "cell_type": "code",
   "execution_count": null,
   "outputs": [],
   "source": [],
   "metadata": {
    "collapsed": false
   }
  }
 ],
 "metadata": {
  "kernelspec": {
   "display_name": "Python 3",
   "language": "python",
   "name": "python3"
  },
  "language_info": {
   "codemirror_mode": {
    "name": "ipython",
    "version": 2
   },
   "file_extension": ".py",
   "mimetype": "text/x-python",
   "name": "python",
   "nbconvert_exporter": "python",
   "pygments_lexer": "ipython2",
   "version": "2.7.6"
  }
 },
 "nbformat": 4,
 "nbformat_minor": 0
}
