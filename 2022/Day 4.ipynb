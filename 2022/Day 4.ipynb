{
 "cells": [
  {
   "cell_type": "code",
   "execution_count": 1,
   "metadata": {},
   "outputs": [],
   "source": [
    "import pandas as pd\n",
    "import myconfig\n",
    "import requests\n",
    "import urllib3\n",
    "import numpy as np\n",
    "from io import StringIO\n",
    "urllib3.disable_warnings()\n",
    "\n",
    "day = 4\n",
    "url = f'https://adventofcode.com/2022/day/{day}/input'\n",
    "input_data = requests.get(url, cookies = {'session': myconfig.session}, verify=False).text"
   ]
  },
  {
   "cell_type": "code",
   "execution_count": 2,
   "metadata": {},
   "outputs": [],
   "source": [
    "df = pd.read_csv(StringIO(input_data), names=['pairs'], sep='\\s', engine='python')"
   ]
  },
  {
   "cell_type": "code",
   "execution_count": 3,
   "metadata": {},
   "outputs": [],
   "source": [
    "def f(x):\n",
    "    e = x.str.split('-', expand=True)\n",
    "    return [np.arange(int(s), int(e)+1) for s, e in zip(e[0], e[1])]\n",
    "df2 = df['pairs'].str.split(',', expand=True).apply(f)"
   ]
  },
  {
   "cell_type": "code",
   "execution_count": 4,
   "metadata": {},
   "outputs": [
    {
     "data": {
      "text/plain": [
       "433"
      ]
     },
     "execution_count": 4,
     "metadata": {},
     "output_type": "execute_result"
    }
   ],
   "source": [
    "#Answer 1\n",
    "sum(set(f).issubset(set(s)) | set(s).issubset(f) for f, s in zip(df2[0], df2[1]))"
   ]
  },
  {
   "cell_type": "code",
   "execution_count": 5,
   "metadata": {},
   "outputs": [
    {
     "data": {
      "text/plain": [
       "852"
      ]
     },
     "execution_count": 5,
     "metadata": {},
     "output_type": "execute_result"
    }
   ],
   "source": [
    "#Answer 2\n",
    "sum(len(set(f).intersection(set(s))) > 0 for f, s in zip(df2[0], df2[1]))"
   ]
  },
  {
   "cell_type": "code",
   "execution_count": null,
   "metadata": {},
   "outputs": [],
   "source": [
    "print(\n",
    "        sum(\n",
    "            (len(set(range(num[0], num[1] + 1)).union(set(range(num[2], num[3] + 1)))) == num[1] + 1 - num[0]) or\n",
    "            (len(set(range(num[0], num[1] + 1)).union(set(range(num[2], num[3] + 1)))) == num[3] + 1 - num[2])\n",
    "            for num in nums\n",
    "        )\n",
    "    )"
   ]
  }
 ],
 "metadata": {
  "kernelspec": {
   "display_name": "Python 3 (ipykernel)",
   "language": "python",
   "name": "python3"
  },
  "language_info": {
   "codemirror_mode": {
    "name": "ipython",
    "version": 3
   },
   "file_extension": ".py",
   "mimetype": "text/x-python",
   "name": "python",
   "nbconvert_exporter": "python",
   "pygments_lexer": "ipython3",
   "version": "3.8.8"
  }
 },
 "nbformat": 4,
 "nbformat_minor": 1
}
