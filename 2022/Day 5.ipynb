{
 "cells": [
  {
   "cell_type": "code",
   "execution_count": 1,
   "metadata": {
    "collapsed": true
   },
   "outputs": [],
   "source": [
    "import pandas as pd\n",
    "import myconfig\n",
    "import requests\n",
    "import urllib3\n",
    "import numpy as np\n",
    "from io import StringIO\n",
    "urllib3.disable_warnings()\n",
    "\n",
    "day = 5\n",
    "url = f'https://adventofcode.com/2022/day/{day}/input'\n",
    "input_data = requests.get(url, cookies = {'session': myconfig.session}, verify=False).text"
   ]
  },
  {
   "cell_type": "code",
   "execution_count": 2,
   "outputs": [],
   "source": [
    "df = pd.read_csv(StringIO(input_data.replace('    ', '\\t')), names=['inputs'])\n",
    "df_crates = df[~df['inputs'].str.startswith('m')]\n",
    "df_move = df[df['inputs'].str.startswith('m')]\n",
    "\n",
    "df_crates = df_crates[::-1]\n",
    "df_crates = df_crates['inputs'].str.replace('[\\s+\\t]','.', regex=True)\n",
    "df_crates.iloc[0] = df_crates.iloc[0].strip('.').replace('...','.')\n",
    "df_crates = df_crates.str.split('.', expand=True)\n",
    "df_crates = df_crates.set_axis(df_crates.iloc[0], axis=1).drop(df_crates.index[0])\n",
    "\n",
    "stacks = {}\n",
    "for c in df_crates.columns:\n",
    "    stacks[c] = [c for c in df_crates[c].tolist() if c]"
   ],
   "metadata": {
    "collapsed": false
   }
  },
  {
   "cell_type": "code",
   "execution_count": 3,
   "outputs": [],
   "source": [
    "def moves(f, t):\n",
    "    if len(stacks[f]) != 0:\n",
    "        stacks[t].append(stacks[f].pop())"
   ],
   "metadata": {
    "collapsed": false
   }
  },
  {
   "cell_type": "code",
   "execution_count": 4,
   "outputs": [],
   "source": [
    "for _, r in df_move['inputs'].str.extract('move (?P<moves>\\d+) from (?P<from_>\\d+) to (?P<to_>\\d+)').iterrows():\n",
    "    m, f, t = r\n",
    "    for i in range(int(m)):\n",
    "        moves(f, t)"
   ],
   "metadata": {
    "collapsed": false
   }
  },
  {
   "cell_type": "code",
   "execution_count": 5,
   "outputs": [
    {
     "data": {
      "text/plain": "'CWMTGHBDW'"
     },
     "execution_count": 5,
     "metadata": {},
     "output_type": "execute_result"
    }
   ],
   "source": [
    "#Answer 1\n",
    "top=[]\n",
    "for s in stacks.values():\n",
    "    if len(s) != 0:\n",
    "        top.append(s[-1][1])\n",
    "    else:\n",
    "        top.append(' ')\n",
    "results = ''.join(top)\n",
    "results"
   ],
   "metadata": {
    "collapsed": false
   }
  },
  {
   "cell_type": "markdown",
   "source": [
    "Start Answer 2"
   ],
   "metadata": {
    "collapsed": false
   }
  },
  {
   "cell_type": "code",
   "execution_count": 6,
   "outputs": [],
   "source": [
    "stacks = {}\n",
    "for c in df_crates.columns:\n",
    "    stacks[c] = [c for c in df_crates[c].tolist() if c]"
   ],
   "metadata": {
    "collapsed": false
   }
  },
  {
   "cell_type": "code",
   "execution_count": 7,
   "outputs": [],
   "source": [
    "for _, r in df_move['inputs'].str.extract('move (?P<moves>\\d+) from (?P<from_>\\d+) to (?P<to_>\\d+)').iterrows():\n",
    "    m, f, t = r\n",
    "    stacks[t] += stacks[f][-int(m):]\n",
    "    stacks[f] = stacks[f][:-int(m)]"
   ],
   "metadata": {
    "collapsed": false
   }
  },
  {
   "cell_type": "code",
   "execution_count": 8,
   "outputs": [
    {
     "data": {
      "text/plain": "'SSCGWJCRB'"
     },
     "execution_count": 8,
     "metadata": {},
     "output_type": "execute_result"
    }
   ],
   "source": [
    "#Answer 2\n",
    "top=[]\n",
    "for s in stacks.values():\n",
    "    if len(s) != 0:\n",
    "        top.append(s[-1][1])\n",
    "    else:\n",
    "        top.append(' ')\n",
    "results = ''.join(top)\n",
    "results"
   ],
   "metadata": {
    "collapsed": false
   }
  }
 ],
 "metadata": {
  "kernelspec": {
   "display_name": "Python 3",
   "language": "python",
   "name": "python3"
  },
  "language_info": {
   "codemirror_mode": {
    "name": "ipython",
    "version": 2
   },
   "file_extension": ".py",
   "mimetype": "text/x-python",
   "name": "python",
   "nbconvert_exporter": "python",
   "pygments_lexer": "ipython2",
   "version": "2.7.6"
  }
 },
 "nbformat": 4,
 "nbformat_minor": 0
}
