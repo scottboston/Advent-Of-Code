{
 "cells": [
  {
   "cell_type": "code",
   "execution_count": 2,
   "metadata": {
    "collapsed": true
   },
   "outputs": [],
   "source": [
    "import pandas as pd\n",
    "import myconfig\n",
    "import requests\n",
    "import urllib3\n",
    "from io import StringIO\n",
    "urllib3.disable_warnings()\n",
    "\n",
    "day = 2\n",
    "url = f'https://adventofcode.com/2022/day/{day}/input'\n",
    "input_data = requests.get(url, cookies = {'session': myconfig.session}, verify=False).text"
   ]
  },
  {
   "cell_type": "code",
   "execution_count": 17,
   "outputs": [],
   "source": [
    "df = pd.read_csv(StringIO(input_data), skip_blank_lines=False, names=['player_1', 'player_2'], sep='\\s', engine='python')"
   ],
   "metadata": {
    "collapsed": false
   }
  },
  {
   "cell_type": "code",
   "execution_count": 18,
   "outputs": [
    {
     "data": {
      "text/plain": "     player_1 player_2\n0           A        Y\n1           B        X\n2           B        X\n3           C        Y\n4           B        X\n...       ...      ...\n2495        B        X\n2496        C        Y\n2497        C        Y\n2498        B        X\n2499        B        X\n\n[2500 rows x 2 columns]",
      "text/html": "<div>\n<style scoped>\n    .dataframe tbody tr th:only-of-type {\n        vertical-align: middle;\n    }\n\n    .dataframe tbody tr th {\n        vertical-align: top;\n    }\n\n    .dataframe thead th {\n        text-align: right;\n    }\n</style>\n<table border=\"1\" class=\"dataframe\">\n  <thead>\n    <tr style=\"text-align: right;\">\n      <th></th>\n      <th>player_1</th>\n      <th>player_2</th>\n    </tr>\n  </thead>\n  <tbody>\n    <tr>\n      <th>0</th>\n      <td>A</td>\n      <td>Y</td>\n    </tr>\n    <tr>\n      <th>1</th>\n      <td>B</td>\n      <td>X</td>\n    </tr>\n    <tr>\n      <th>2</th>\n      <td>B</td>\n      <td>X</td>\n    </tr>\n    <tr>\n      <th>3</th>\n      <td>C</td>\n      <td>Y</td>\n    </tr>\n    <tr>\n      <th>4</th>\n      <td>B</td>\n      <td>X</td>\n    </tr>\n    <tr>\n      <th>...</th>\n      <td>...</td>\n      <td>...</td>\n    </tr>\n    <tr>\n      <th>2495</th>\n      <td>B</td>\n      <td>X</td>\n    </tr>\n    <tr>\n      <th>2496</th>\n      <td>C</td>\n      <td>Y</td>\n    </tr>\n    <tr>\n      <th>2497</th>\n      <td>C</td>\n      <td>Y</td>\n    </tr>\n    <tr>\n      <th>2498</th>\n      <td>B</td>\n      <td>X</td>\n    </tr>\n    <tr>\n      <th>2499</th>\n      <td>B</td>\n      <td>X</td>\n    </tr>\n  </tbody>\n</table>\n<p>2500 rows × 2 columns</p>\n</div>"
     },
     "execution_count": 18,
     "metadata": {},
     "output_type": "execute_result"
    }
   ],
   "source": [
    "df"
   ],
   "metadata": {
    "collapsed": false
   }
  },
  {
   "cell_type": "code",
   "execution_count": 21,
   "outputs": [],
   "source": [
    "player_1_dict = {'A': 'Rock', 'B': 'Paper', 'C': 'Scissors'}\n",
    "player_2_dict = {'X': 'Rock', 'Y': 'Paper', 'Z': 'Scissors'}\n",
    "\n",
    "score_dict = {'Rock': 1, 'Paper': 2, 'Scissors': 3}\n",
    "\n",
    "hand_score = {-2:6, -1:0, 0:3, 1:6, 2:0}"
   ],
   "metadata": {
    "collapsed": false
   }
  },
  {
   "cell_type": "code",
   "execution_count": 24,
   "outputs": [],
   "source": [
    "df['player_2_value'] = df['player_2'].map(player_2_dict).map(score_dict)\n",
    "df['hand_score'] = (df['player_2'].map(player_2_dict).map(score_dict) -\n",
    "                    df['player_1'].map(player_1_dict).map(score_dict)).map(hand_score)"
   ],
   "metadata": {
    "collapsed": false
   }
  },
  {
   "cell_type": "code",
   "execution_count": 25,
   "outputs": [
    {
     "data": {
      "text/plain": "9651"
     },
     "execution_count": 25,
     "metadata": {},
     "output_type": "execute_result"
    }
   ],
   "source": [
    "# Answer 1\n",
    "df.eval('round = player_2_value + hand_score')['round'].sum()"
   ],
   "metadata": {
    "collapsed": false
   }
  },
  {
   "cell_type": "code",
   "execution_count": 26,
   "outputs": [],
   "source": [
    "need_result = {'X':-1, 'Y':0, 'Z':1}\n",
    "need_score = {'X':0, 'Y':3, 'Z':6}"
   ],
   "metadata": {
    "collapsed": false
   }
  },
  {
   "cell_type": "code",
   "execution_count": 28,
   "outputs": [
    {
     "data": {
      "text/plain": "10560"
     },
     "execution_count": 28,
     "metadata": {},
     "output_type": "execute_result"
    }
   ],
   "source": [
    "# Answer 2\n",
    "(((df['player_1'].map(player_1_dict).map(score_dict) + df['player_2'].map(need_result))%3).replace(0,3) +\n",
    " df['player_2'].map(need_score)).sum()"
   ],
   "metadata": {
    "collapsed": false
   }
  },
  {
   "cell_type": "code",
   "execution_count": null,
   "outputs": [],
   "source": [],
   "metadata": {
    "collapsed": false
   }
  }
 ],
 "metadata": {
  "kernelspec": {
   "display_name": "Python 3",
   "language": "python",
   "name": "python3"
  },
  "language_info": {
   "codemirror_mode": {
    "name": "ipython",
    "version": 2
   },
   "file_extension": ".py",
   "mimetype": "text/x-python",
   "name": "python",
   "nbconvert_exporter": "python",
   "pygments_lexer": "ipython2",
   "version": "2.7.6"
  }
 },
 "nbformat": 4,
 "nbformat_minor": 0
}
