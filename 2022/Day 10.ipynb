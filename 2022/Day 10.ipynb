{
 "cells": [
  {
   "cell_type": "code",
   "execution_count": 1,
   "metadata": {
    "collapsed": true
   },
   "outputs": [],
   "source": [
    "import pandas as pd\n",
    "import myconfig\n",
    "import requests\n",
    "import urllib3\n",
    "import numpy as np\n",
    "from io import StringIO\n",
    "urllib3.disable_warnings()\n",
    "\n",
    "day = 10\n",
    "url = f'https://adventofcode.com/2022/day/{day}/input'\n",
    "input_data = requests.get(url, cookies = {'session': myconfig.session}, verify=False).text"
   ]
  },
  {
   "cell_type": "code",
   "execution_count": 2,
   "outputs": [],
   "source": [
    "s = pd.read_csv(StringIO(input_data), names=['command']).squeeze()\n",
    "r = s.str.extract('(-?\\d+)').squeeze().astype(float)\n",
    "r = r.repeat(r.notna()+1)\n",
    "r.loc[r.index.duplicated(keep='last')] = np.nan\n",
    "out = r.cumsum()+1\n",
    "out.index = np.arange(2, len(out) + 2)"
   ],
   "metadata": {
    "collapsed": false
   }
  },
  {
   "cell_type": "code",
   "execution_count": 3,
   "outputs": [
    {
     "data": {
      "text/plain": "13920.0"
     },
     "execution_count": 3,
     "metadata": {},
     "output_type": "execute_result"
    }
   ],
   "source": [
    "#Answer #1\n",
    "out.ffill().reindex([20, 60, 100, 140, 180, 220]).reset_index().prod(axis=1).sum()"
   ],
   "metadata": {
    "collapsed": false
   }
  },
  {
   "cell_type": "code",
   "execution_count": 4,
   "outputs": [],
   "source": [
    "#Answer #2\n",
    "out[2] = 1\n",
    "outi = out.ffill()\n",
    "s=['#']\n",
    "for i in range(2, 240):\n",
    "    if abs((i - 1) % 40 - outi[i]) < 2:\n",
    "        s.append('#')\n",
    "    else:\n",
    "        s.append('.')"
   ],
   "metadata": {
    "collapsed": false
   }
  },
  {
   "cell_type": "code",
   "execution_count": 5,
   "outputs": [
    {
     "name": "stdout",
     "output_type": "stream",
     "text": [
      "####..##..#....#..#.###..#....####...##\n",
      "#....#..#.#....#..#.#..#.#....#.......#\n",
      "###..#....#....####.###..#....###.....#\n",
      "#....#.##.#....#..#.#..#.#....#.......#\n",
      "#....#..#.#....#..#.#..#.#....#....#..#\n",
      "####..###.####.#..#.###..####.#.....##.\n"
     ]
    }
   ],
   "source": [
    "print(''.join(s[0:39]))\n",
    "print(''.join(s[40:79]))\n",
    "print(''.join(s[80:119]))\n",
    "print(''.join(s[120:159]))\n",
    "print(''.join(s[160:199]))\n",
    "print(''.join(s[200:239]))"
   ],
   "metadata": {
    "collapsed": false
   }
  },
  {
   "cell_type": "code",
   "execution_count": 5,
   "outputs": [],
   "source": [],
   "metadata": {
    "collapsed": false
   }
  }
 ],
 "metadata": {
  "kernelspec": {
   "display_name": "Python 3",
   "language": "python",
   "name": "python3"
  },
  "language_info": {
   "codemirror_mode": {
    "name": "ipython",
    "version": 2
   },
   "file_extension": ".py",
   "mimetype": "text/x-python",
   "name": "python",
   "nbconvert_exporter": "python",
   "pygments_lexer": "ipython2",
   "version": "2.7.6"
  }
 },
 "nbformat": 4,
 "nbformat_minor": 0
}
