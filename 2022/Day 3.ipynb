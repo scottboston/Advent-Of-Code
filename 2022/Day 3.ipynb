{
 "cells": [
  {
   "cell_type": "code",
   "execution_count": 1,
   "metadata": {
    "collapsed": true
   },
   "outputs": [],
   "source": [
    "import pandas as pd\n",
    "import myconfig\n",
    "import requests\n",
    "import urllib3\n",
    "from io import StringIO\n",
    "urllib3.disable_warnings()\n",
    "\n",
    "day = 3\n",
    "url = f'https://adventofcode.com/2022/day/{day}/input'\n",
    "input_data = requests.get(url, cookies = {'session': myconfig.session}, verify=False).text"
   ]
  },
  {
   "cell_type": "code",
   "execution_count": 2,
   "outputs": [],
   "source": [
    "s = pd.read_csv(StringIO(input_data), names=['sack']).squeeze()"
   ],
   "metadata": {
    "collapsed": false
   }
  },
  {
   "cell_type": "code",
   "execution_count": 3,
   "outputs": [],
   "source": [
    "from string import ascii_letters"
   ],
   "metadata": {
    "collapsed": false
   }
  },
  {
   "cell_type": "code",
   "execution_count": 4,
   "outputs": [
    {
     "data": {
      "text/plain": "7850"
     },
     "execution_count": 4,
     "metadata": {},
     "output_type": "execute_result"
    }
   ],
   "source": [
    "#Answer 1\n",
    "lets = ' ' + ascii_letters\n",
    "\n",
    "def common_letter(x):\n",
    "    (c,) =  set(x[:len(x)//2]) & set(x[len(x)//2:])\n",
    "    return lets.find(c)\n",
    "s.apply(common_letter).sum()"
   ],
   "metadata": {
    "collapsed": false
   }
  },
  {
   "cell_type": "code",
   "execution_count": 5,
   "outputs": [],
   "source": [
    "#Answer 2"
   ],
   "metadata": {
    "collapsed": false
   }
  },
  {
   "cell_type": "code",
   "execution_count": 6,
   "outputs": [
    {
     "data": {
      "text/plain": "2581"
     },
     "execution_count": 6,
     "metadata": {},
     "output_type": "execute_result"
    }
   ],
   "source": [
    "def common_item(x):\n",
    "    (c,) = set.intersection(*x.apply(set).tolist())\n",
    "    return lets.find(c)\n",
    "s.groupby(s.index//3).apply(common_item).sum()"
   ],
   "metadata": {
    "collapsed": false
   }
  }
 ],
 "metadata": {
  "kernelspec": {
   "display_name": "Python 3",
   "language": "python",
   "name": "python3"
  },
  "language_info": {
   "codemirror_mode": {
    "name": "ipython",
    "version": 2
   },
   "file_extension": ".py",
   "mimetype": "text/x-python",
   "name": "python",
   "nbconvert_exporter": "python",
   "pygments_lexer": "ipython2",
   "version": "2.7.6"
  }
 },
 "nbformat": 4,
 "nbformat_minor": 0
}
